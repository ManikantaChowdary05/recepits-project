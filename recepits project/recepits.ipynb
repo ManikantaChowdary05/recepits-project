{
 "cells": [
  {
   "cell_type": "code",
   "execution_count": 10,
   "id": "7c4bb4a9-1d4a-495d-b7d0-47cf99d9de53",
   "metadata": {},
   "outputs": [
    {
     "name": "stdout",
     "output_type": "stream",
     "text": [
      "Defaulting to user installation because normal site-packages is not writeable\n",
      "Requirement already satisfied: reportlab in c:\\users\\hp\\appdata\\roaming\\python\\python313\\site-packages (4.4.0)\n",
      "Requirement already satisfied: pillow>=9.0.0 in c:\\users\\hp\\appdata\\roaming\\python\\python313\\site-packages (from reportlab) (11.1.0)\n",
      "Requirement already satisfied: chardet in c:\\users\\hp\\appdata\\roaming\\python\\python313\\site-packages (from reportlab) (5.2.0)\n",
      "Note: you may need to restart the kernel to use updated packages.\n"
     ]
    }
   ],
   "source": [
    "pip install reportlab"
   ]
  },
  {
   "cell_type": "code",
   "execution_count": 4,
   "id": "36ffd8b6-49e2-4a3c-99c0-d723fdd91a0c",
   "metadata": {},
   "outputs": [],
   "source": [
    "# imports module \n",
    "from reportlab.platypus import SimpleDocTemplate, Table, Paragraph, TableStyle \n",
    "from reportlab.lib import colors \n",
    "from reportlab.lib.pagesizes import A4 \n",
    "from reportlab.lib.styles import getSampleStyleSheet \n",
    "\n",
    "# data which we are going to display as tables \n",
    "DATA = [ \n",
    "\t[ \"Date\" , \"Name\", \"Subscription\", \"Price (Rs.)\" ], \n",
    "\t[ \n",
    "\t\t\"16/11/2020\", \n",
    "\t\t\"Full Stack Development with React & Node JS - Live\", \n",
    "\t\t\"Lifetime\", \n",
    "\t\t\"10,999.00/-\", \n",
    "\t], \n",
    "\t[ \"16/11/2020\", \"Python Class: Live Session\", \"6 months\", \"9,99.00/-\"], \n",
    "\t[ \"Sub Total\", \"\", \"\", \"20,99.00/-\"], \n",
    "\t[ \"Discount\", \"\", \"\", \"-3,000.00/-\"], \n",
    "\t[ \"Total\", \"\", \"\", \"17,998.00/-\"], \n",
    "] \n",
    "\n",
    "# creating a Base Document Template of page size A4 \n",
    "pdf = SimpleDocTemplate( \"receipt.pdf\" , pagesize = A4 ) \n",
    "\n",
    "# standard stylesheet defined within reportlab itself \n",
    "styles = getSampleStyleSheet() \n",
    "\n",
    "# fetching the style of Top level heading (Heading1) \n",
    "title_style = styles[ \"Heading1\" ] \n",
    "\n",
    "# 0: left, 1: center, 2: right \n",
    "title_style.alignment = 1\n",
    "\n",
    "# creating the paragraph with \n",
    "# the heading text and passing the styles of it \n",
    "title = Paragraph( \"Course Class\" , title_style ) \n",
    "\n",
    "# creates a Table Style object and in it, \n",
    "# defines the styles row wise \n",
    "# the tuples which look like coordinates \n",
    "# are nothing but rows and columns \n",
    "style = TableStyle( \n",
    "\t[ \n",
    "\t\t( \"BOX\" , ( 0, 0 ), ( -1, -1 ), 1 , colors.black ), \n",
    "\t\t( \"GRID\" , ( 0, 0 ), ( 4 , 4 ), 1 , colors.black ), \n",
    "\t\t( \"BACKGROUND\" , ( 0, 0 ), ( 3, 0 ), colors.gray ), \n",
    "\t\t( \"TEXTCOLOR\" , ( 0, 0 ), ( -1, 0 ), colors.whitesmoke ), \n",
    "\t\t( \"ALIGN\" , ( 0, 0 ), ( -1, -1 ), \"CENTER\" ), \n",
    "\t\t( \"BACKGROUND\" , ( 0 , 1 ) , ( -1 , -1 ), colors.beige ), \n",
    "\t] \n",
    ") \n",
    "\n",
    "# creates a table object and passes the style to it \n",
    "table = Table( DATA , style = style ) \n",
    "\n",
    "# final step which builds the \n",
    "# actual pdf putting together all the elements \n",
    "pdf.build([ title , table ]) "
   ]
  }
 ],
 "metadata": {
  "kernelspec": {
   "display_name": "Python 3 (ipykernel)",
   "language": "python",
   "name": "python3"
  },
  "language_info": {
   "codemirror_mode": {
    "name": "ipython",
    "version": 3
   },
   "file_extension": ".py",
   "mimetype": "text/x-python",
   "name": "python",
   "nbconvert_exporter": "python",
   "pygments_lexer": "ipython3",
   "version": "3.13.1"
  }
 },
 "nbformat": 4,
 "nbformat_minor": 5
}
